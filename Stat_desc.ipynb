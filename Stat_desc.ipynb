{
 "cells": [
  {
   "cell_type": "code",
   "execution_count": 2,
   "metadata": {},
   "outputs": [],
   "source": [
    "import pandas as pd"
   ]
  },
  {
   "cell_type": "code",
   "execution_count": 3,
   "metadata": {},
   "outputs": [],
   "source": [
    "\n",
    "# Chargement des données des prénoms\n",
    "df_prenoms = pd.read_csv('/Users/anthonyivanier/Desktop/Ensae/3A/NLP/firstname_with_sex.csv', sep=';')\n",
    "\n",
    "# Chargement des transcriptions\n",
    "df_transcriptions = pd.read_csv('/Users/anthonyivanier/Desktop/Ensae/3A/NLP/transcriptions_with_sex.csv')"
   ]
  },
  {
   "cell_type": "code",
   "execution_count": 4,
   "metadata": {},
   "outputs": [
    {
     "name": "stdout",
     "output_type": "stream",
     "text": [
      "   firstname     male\n",
      "1       jean  1869615\n",
      "2     pierre  1475841\n",
      "4   françois  1089009\n",
      "5     joseph   897742\n",
      "9      louis   750498\n",
      "11   jacques   585567\n",
      "12   antoine   536089\n",
      "13   nicolas   408007\n",
      "15    claude   324134\n",
      "16   charles   276133\n"
     ]
    }
   ],
   "source": [
    "\n",
    "top_10_male_names = df_prenoms[df_prenoms['male'] > 0].nlargest(10, 'male')\n",
    "print(top_10_male_names[['firstname', 'male']])\n",
    "\n"
   ]
  },
  {
   "cell_type": "code",
   "execution_count": 5,
   "metadata": {},
   "outputs": [
    {
     "name": "stdout",
     "output_type": "stream",
     "text": [
      "     firstname   female\n",
      "0        marie  2390322\n",
      "3       jeanne  1097397\n",
      "6         anne   816241\n",
      "7   marguerite   813859\n",
      "8    catherine   792448\n",
      "10   françoise   600167\n",
      "14      louise   360914\n",
      "17   elisabeth   224969\n",
      "18   madeleine   217939\n",
      "22    claudine   163711\n"
     ]
    }
   ],
   "source": [
    "top_10_female_names = df_prenoms[df_prenoms['female'] > 0].nlargest(10, 'female')\n",
    "print(top_10_female_names[['firstname', 'female']])"
   ]
  }
 ],
 "metadata": {
  "kernelspec": {
   "display_name": "base",
   "language": "python",
   "name": "python3"
  },
  "language_info": {
   "codemirror_mode": {
    "name": "ipython",
    "version": 3
   },
   "file_extension": ".py",
   "mimetype": "text/x-python",
   "name": "python",
   "nbconvert_exporter": "python",
   "pygments_lexer": "ipython3",
   "version": "3.10.9"
  }
 },
 "nbformat": 4,
 "nbformat_minor": 2
}
