{
 "cells": [
  {
   "cell_type": "markdown",
   "metadata": {},
   "source": [
    "## Import des données et traitement"
   ]
  },
  {
   "cell_type": "code",
   "execution_count": 14,
   "metadata": {},
   "outputs": [],
   "source": [
    "import pandas as pd\n"
   ]
  },
  {
   "cell_type": "code",
   "execution_count": 15,
   "metadata": {},
   "outputs": [],
   "source": [
    "\n",
    "# Chargement des données des prénoms\n",
    "df_prenoms = pd.read_csv('/Users/anthonyivanier/Desktop/Ensae/3A/NLP/firstname_with_sex.csv', sep=';')\n",
    "\n",
    "# Chargement des transcriptions\n",
    "df_transcriptions = pd.read_csv('/Users/anthonyivanier/Desktop/Ensae/3A/NLP/transcriptions_with_sex.csv')\n"
   ]
  },
  {
   "cell_type": "code",
   "execution_count": 16,
   "metadata": {},
   "outputs": [
    {
     "data": {
      "text/html": [
       "<div>\n",
       "<style scoped>\n",
       "    .dataframe tbody tr th:only-of-type {\n",
       "        vertical-align: middle;\n",
       "    }\n",
       "\n",
       "    .dataframe tbody tr th {\n",
       "        vertical-align: top;\n",
       "    }\n",
       "\n",
       "    .dataframe thead th {\n",
       "        text-align: right;\n",
       "    }\n",
       "</style>\n",
       "<table border=\"1\" class=\"dataframe\">\n",
       "  <thead>\n",
       "    <tr style=\"text-align: right;\">\n",
       "      <th></th>\n",
       "      <th>firstname</th>\n",
       "      <th>male</th>\n",
       "      <th>female</th>\n",
       "    </tr>\n",
       "  </thead>\n",
       "  <tbody>\n",
       "    <tr>\n",
       "      <th>0</th>\n",
       "      <td>marie</td>\n",
       "      <td>10145</td>\n",
       "      <td>2390322</td>\n",
       "    </tr>\n",
       "    <tr>\n",
       "      <th>1</th>\n",
       "      <td>jean</td>\n",
       "      <td>1869615</td>\n",
       "      <td>6476</td>\n",
       "    </tr>\n",
       "    <tr>\n",
       "      <th>2</th>\n",
       "      <td>pierre</td>\n",
       "      <td>1475841</td>\n",
       "      <td>5047</td>\n",
       "    </tr>\n",
       "    <tr>\n",
       "      <th>3</th>\n",
       "      <td>jeanne</td>\n",
       "      <td>1765</td>\n",
       "      <td>1097397</td>\n",
       "    </tr>\n",
       "    <tr>\n",
       "      <th>4</th>\n",
       "      <td>françois</td>\n",
       "      <td>1089009</td>\n",
       "      <td>5951</td>\n",
       "    </tr>\n",
       "    <tr>\n",
       "      <th>5</th>\n",
       "      <td>joseph</td>\n",
       "      <td>897742</td>\n",
       "      <td>4246</td>\n",
       "    </tr>\n",
       "    <tr>\n",
       "      <th>6</th>\n",
       "      <td>anne</td>\n",
       "      <td>1479</td>\n",
       "      <td>816241</td>\n",
       "    </tr>\n",
       "    <tr>\n",
       "      <th>7</th>\n",
       "      <td>marguerite</td>\n",
       "      <td>1441</td>\n",
       "      <td>813859</td>\n",
       "    </tr>\n",
       "    <tr>\n",
       "      <th>8</th>\n",
       "      <td>catherine</td>\n",
       "      <td>1223</td>\n",
       "      <td>792448</td>\n",
       "    </tr>\n",
       "    <tr>\n",
       "      <th>9</th>\n",
       "      <td>louis</td>\n",
       "      <td>750498</td>\n",
       "      <td>2720</td>\n",
       "    </tr>\n",
       "    <tr>\n",
       "      <th>10</th>\n",
       "      <td>françoise</td>\n",
       "      <td>1153</td>\n",
       "      <td>600167</td>\n",
       "    </tr>\n",
       "    <tr>\n",
       "      <th>11</th>\n",
       "      <td>jacques</td>\n",
       "      <td>585567</td>\n",
       "      <td>2010</td>\n",
       "    </tr>\n",
       "    <tr>\n",
       "      <th>12</th>\n",
       "      <td>antoine</td>\n",
       "      <td>536089</td>\n",
       "      <td>2067</td>\n",
       "    </tr>\n",
       "    <tr>\n",
       "      <th>13</th>\n",
       "      <td>nicolas</td>\n",
       "      <td>408007</td>\n",
       "      <td>1463</td>\n",
       "    </tr>\n",
       "    <tr>\n",
       "      <th>14</th>\n",
       "      <td>louise</td>\n",
       "      <td>681</td>\n",
       "      <td>360914</td>\n",
       "    </tr>\n",
       "    <tr>\n",
       "      <th>15</th>\n",
       "      <td>claude</td>\n",
       "      <td>324134</td>\n",
       "      <td>4830</td>\n",
       "    </tr>\n",
       "    <tr>\n",
       "      <th>16</th>\n",
       "      <td>charles</td>\n",
       "      <td>276133</td>\n",
       "      <td>972</td>\n",
       "    </tr>\n",
       "    <tr>\n",
       "      <th>17</th>\n",
       "      <td>elisabeth</td>\n",
       "      <td>353</td>\n",
       "      <td>224969</td>\n",
       "    </tr>\n",
       "    <tr>\n",
       "      <th>18</th>\n",
       "      <td>madeleine</td>\n",
       "      <td>424</td>\n",
       "      <td>217939</td>\n",
       "    </tr>\n",
       "    <tr>\n",
       "      <th>19</th>\n",
       "      <td>michel</td>\n",
       "      <td>214487</td>\n",
       "      <td>834</td>\n",
       "    </tr>\n",
       "    <tr>\n",
       "      <th>20</th>\n",
       "      <td>etienne</td>\n",
       "      <td>211297</td>\n",
       "      <td>898</td>\n",
       "    </tr>\n",
       "    <tr>\n",
       "      <th>21</th>\n",
       "      <td>guillaume</td>\n",
       "      <td>197634</td>\n",
       "      <td>792</td>\n",
       "    </tr>\n",
       "    <tr>\n",
       "      <th>22</th>\n",
       "      <td>claudine</td>\n",
       "      <td>280</td>\n",
       "      <td>163711</td>\n",
       "    </tr>\n",
       "    <tr>\n",
       "      <th>23</th>\n",
       "      <td>andré</td>\n",
       "      <td>160970</td>\n",
       "      <td>586</td>\n",
       "    </tr>\n",
       "    <tr>\n",
       "      <th>24</th>\n",
       "      <td>yves</td>\n",
       "      <td>156916</td>\n",
       "      <td>544</td>\n",
       "    </tr>\n",
       "    <tr>\n",
       "      <th>25</th>\n",
       "      <td>henri</td>\n",
       "      <td>151366</td>\n",
       "      <td>504</td>\n",
       "    </tr>\n",
       "    <tr>\n",
       "      <th>26</th>\n",
       "      <td>antoinette</td>\n",
       "      <td>326</td>\n",
       "      <td>150155</td>\n",
       "    </tr>\n",
       "  </tbody>\n",
       "</table>\n",
       "</div>"
      ],
      "text/plain": [
       "     firstname     male   female\n",
       "0        marie    10145  2390322\n",
       "1         jean  1869615     6476\n",
       "2       pierre  1475841     5047\n",
       "3       jeanne     1765  1097397\n",
       "4     françois  1089009     5951\n",
       "5       joseph   897742     4246\n",
       "6         anne     1479   816241\n",
       "7   marguerite     1441   813859\n",
       "8    catherine     1223   792448\n",
       "9        louis   750498     2720\n",
       "10   françoise     1153   600167\n",
       "11     jacques   585567     2010\n",
       "12     antoine   536089     2067\n",
       "13     nicolas   408007     1463\n",
       "14      louise      681   360914\n",
       "15      claude   324134     4830\n",
       "16     charles   276133      972\n",
       "17   elisabeth      353   224969\n",
       "18   madeleine      424   217939\n",
       "19      michel   214487      834\n",
       "20     etienne   211297      898\n",
       "21   guillaume   197634      792\n",
       "22    claudine      280   163711\n",
       "23       andré   160970      586\n",
       "24        yves   156916      544\n",
       "25       henri   151366      504\n",
       "26  antoinette      326   150155"
      ]
     },
     "execution_count": 16,
     "metadata": {},
     "output_type": "execute_result"
    }
   ],
   "source": [
    "df_prenoms.head(27)\n"
   ]
  },
  {
   "cell_type": "code",
   "execution_count": 17,
   "metadata": {},
   "outputs": [
    {
     "name": "stdout",
     "output_type": "stream",
     "text": [
      "Series([], Name: firstname, dtype: object)\n"
     ]
    }
   ],
   "source": [
    "df_prenoms_with_space_or_hyphen = df_prenoms[df_prenoms['firstname'].str.contains(' |-', regex=True)]\n",
    "print(df_prenoms_with_space_or_hyphen['firstname'])\n"
   ]
  },
  {
   "cell_type": "code",
   "execution_count": 18,
   "metadata": {},
   "outputs": [
    {
     "name": "stdout",
     "output_type": "stream",
     "text": [
      "(6946, 3) (241, 4)\n"
     ]
    }
   ],
   "source": [
    "print(df_prenoms.shape , df_transcriptions.shape)"
   ]
  },
  {
   "cell_type": "code",
   "execution_count": null,
   "metadata": {},
   "outputs": [],
   "source": []
  },
  {
   "cell_type": "code",
   "execution_count": 19,
   "metadata": {},
   "outputs": [
    {
     "data": {
      "text/html": [
       "<div>\n",
       "<style scoped>\n",
       "    .dataframe tbody tr th:only-of-type {\n",
       "        vertical-align: middle;\n",
       "    }\n",
       "\n",
       "    .dataframe tbody tr th {\n",
       "        vertical-align: top;\n",
       "    }\n",
       "\n",
       "    .dataframe thead th {\n",
       "        text-align: right;\n",
       "    }\n",
       "</style>\n",
       "<table border=\"1\" class=\"dataframe\">\n",
       "  <thead>\n",
       "    <tr style=\"text-align: right;\">\n",
       "      <th></th>\n",
       "      <th>subject_line</th>\n",
       "      <th>groundtruth</th>\n",
       "      <th>prediction</th>\n",
       "      <th>sex</th>\n",
       "    </tr>\n",
       "  </thead>\n",
       "  <tbody>\n",
       "    <tr>\n",
       "      <th>0</th>\n",
       "      <td>ebb26ada-044c-4c62-9dbc-a9c8d505d31c</td>\n",
       "      <td>surname: Chardon firstname: Marie occupation: idem link: fille age: 30</td>\n",
       "      <td>nom: Chardon prénom: Marie date_naissance: 30 lieux_naissance: \"</td>\n",
       "      <td>femme</td>\n",
       "    </tr>\n",
       "    <tr>\n",
       "      <th>1</th>\n",
       "      <td>338496f5-e4ca-43ac-aa5c-429cb3f6ac00</td>\n",
       "      <td>surname: Lhopital firstname: Louis-Jean occupation: sp link: chef age: 67</td>\n",
       "      <td>nom: Lhopital prénom: Louis Jean date_naissance: 67 lieux_naissance: Sn employeur: ahef</td>\n",
       "      <td>homme</td>\n",
       "    </tr>\n",
       "    <tr>\n",
       "      <th>2</th>\n",
       "      <td>e6a279da-9b6f-4f49-b498-64857bc50d1e</td>\n",
       "      <td>surname: Papin firstname: Marie occupation: idem link: idem employer: idem age: 15</td>\n",
       "      <td>nom: Pyrin prénom: Marie date_naissance: 55 relation: d</td>\n",
       "      <td>femme</td>\n",
       "    </tr>\n",
       "    <tr>\n",
       "      <th>3</th>\n",
       "      <td>7534deca-39e8-4f00-be17-c12460015de1</td>\n",
       "      <td>surname: Lavocat firstname: Marie link: femme birth_date: 1875 lob: Rigny</td>\n",
       "      <td>nom: Lavocat prénom: Marie date_naissance: 1875 lieux_naissance: Rigny profession: ''</td>\n",
       "      <td>femme</td>\n",
       "    </tr>\n",
       "    <tr>\n",
       "      <th>4</th>\n",
       "      <td>ef334a66-a504-418a-9872-e7c9db923488</td>\n",
       "      <td>surname: Benne firstname: Marguerite age: 78</td>\n",
       "      <td>nom: Benne prénom: Marguerite date_naissance: 78 lieux_naissance: id relation: ''</td>\n",
       "      <td>femme</td>\n",
       "    </tr>\n",
       "  </tbody>\n",
       "</table>\n",
       "</div>"
      ],
      "text/plain": [
       "                           subject_line  \\\n",
       "0  ebb26ada-044c-4c62-9dbc-a9c8d505d31c   \n",
       "1  338496f5-e4ca-43ac-aa5c-429cb3f6ac00   \n",
       "2  e6a279da-9b6f-4f49-b498-64857bc50d1e   \n",
       "3  7534deca-39e8-4f00-be17-c12460015de1   \n",
       "4  ef334a66-a504-418a-9872-e7c9db923488   \n",
       "\n",
       "                                                                           groundtruth  \\\n",
       "0              surname: Chardon firstname: Marie occupation: idem link: fille age: 30    \n",
       "1           surname: Lhopital firstname: Louis-Jean occupation: sp link: chef age: 67    \n",
       "2  surname: Papin firstname: Marie occupation: idem link: idem employer: idem age: 15    \n",
       "3           surname: Lavocat firstname: Marie link: femme birth_date: 1875 lob: Rigny    \n",
       "4                                        surname: Benne firstname: Marguerite age: 78    \n",
       "\n",
       "                                                                                 prediction  \\\n",
       "0                         nom: Chardon prénom: Marie date_naissance: 30 lieux_naissance: \"    \n",
       "1  nom: Lhopital prénom: Louis Jean date_naissance: 67 lieux_naissance: Sn employeur: ahef    \n",
       "2                                  nom: Pyrin prénom: Marie date_naissance: 55 relation: d    \n",
       "3    nom: Lavocat prénom: Marie date_naissance: 1875 lieux_naissance: Rigny profession: ''    \n",
       "4        nom: Benne prénom: Marguerite date_naissance: 78 lieux_naissance: id relation: ''    \n",
       "\n",
       "     sex  \n",
       "0  femme  \n",
       "1  homme  \n",
       "2  femme  \n",
       "3  femme  \n",
       "4  femme  "
      ]
     },
     "execution_count": 19,
     "metadata": {},
     "output_type": "execute_result"
    }
   ],
   "source": [
    "df_transcriptions.head()\n"
   ]
  },
  {
   "cell_type": "code",
   "execution_count": 20,
   "metadata": {},
   "outputs": [
    {
     "data": {
      "text/plain": [
       "subject_line                                       ebb26ada-044c-4c62-9dbc-a9c8d505d31c\n",
       "groundtruth     surname: Chardon firstname: Marie occupation: idem link: fille age: 30 \n",
       "prediction            nom: Chardon prénom: Marie date_naissance: 30 lieux_naissance: \" \n",
       "sex                                                                               femme\n",
       "Name: 0, dtype: object"
      ]
     },
     "execution_count": 20,
     "metadata": {},
     "output_type": "execute_result"
    }
   ],
   "source": [
    "\n",
    "# Set the display option to print the entire line\n",
    "pd.set_option('display.max_colwidth', None)\n",
    "\n",
    "# Print the first line of df_transcriptions\n",
    "df_transcriptions.iloc[0,:]\n"
   ]
  },
  {
   "cell_type": "code",
   "execution_count": 21,
   "metadata": {},
   "outputs": [],
   "source": [
    "# Probalité des sexes des prénoms\n",
    "df_prenoms['total'] = df_prenoms['male'] + df_prenoms['female']\n",
    "df_prenoms['gender_probability'] = df_prenoms['female'] / df_prenoms['total']"
   ]
  },
  {
   "cell_type": "code",
   "execution_count": null,
   "metadata": {},
   "outputs": [],
   "source": []
  },
  {
   "cell_type": "markdown",
   "metadata": {},
   "source": [
    "Let's exctract first_name"
   ]
  },
  {
   "cell_type": "code",
   "execution_count": 22,
   "metadata": {},
   "outputs": [],
   "source": [
    "'''def extract_firstname(text):\n",
    "    # Extraction du prénom à partir de la colonne groundtruth ou prediction\n",
    "    parts = text.split()\n",
    "    for i, part in enumerate(parts):\n",
    "        if part in [\"firstname:\", \"prénom:\"]:\n",
    "            return parts[i+1]  # Retourne le prénom qui suit ces indicateurs\n",
    "    return None\n",
    "    '''\n",
    "\n",
    "def extract_firstname(text):\n",
    "    # Extraction du prénom à partir de la colonne groundtruth ou prediction\n",
    "    parts = text.split()\n",
    "    for i, part in enumerate(parts):\n",
    "        if part in [\"firstname:\", \"prénom:\"]:\n",
    "            firstname = parts[i+1]  # Retourne le prénom qui suit ces indicateurs\n",
    "            \n",
    "            # Check if the next part is also part of the first name\n",
    "            if i+2 < len(parts) and parts[i+2].isalpha():\n",
    "                firstname += \" \" + parts[i+2]\n",
    "            \n",
    "            return firstname\n",
    "    return None\n",
    "\n",
    "\n",
    "df_transcriptions['extracted_firstname_gt'] = df_transcriptions['groundtruth'].apply(extract_firstname)\n",
    "df_transcriptions['extracted_firstname_gt'] = df_transcriptions['extracted_firstname_gt'].str.lower()\n",
    "\n",
    "#\n",
    "df_transcriptions['extracted_firstname_pred'] = df_transcriptions['prediction'].apply(extract_firstname)  \n",
    "df_transcriptions['extracted_firstname_pred'] = df_transcriptions['extracted_firstname_pred'].str.lower()\n",
    "\n",
    "# Standardisation de la colonne 'sex' en binaire\n",
    "df_transcriptions['sex_binary'] = df_transcriptions['sex'].map({'femme': 1, 'homme': 0, 'ambigu': float('nan')})\n"
   ]
  },
  {
   "cell_type": "code",
   "execution_count": 23,
   "metadata": {},
   "outputs": [
    {
     "name": "stdout",
     "output_type": "stream",
     "text": [
      "louis-jean louis jean\n",
      "antoine angène\n",
      "alexandre herandre\n",
      "marguerite oarguerite\n",
      "virginie vigmie\n",
      "eugènie eugénie\n",
      "josèphine joséphine\n",
      "anroine antoine\n",
      "justine gustine\n",
      "clément clement\n",
      "antoine angloise\n",
      "françois feris\n",
      "eugènie eugénie\n",
      "jacques jregues\n",
      "claude vaude\n",
      "jean-marie jean marie\n",
      "gilbert gilbeuse\n",
      "branislav branistau\n",
      "stanislas mamiolas\n",
      "None eugéne\n",
      "madeleine gadeleine\n",
      "etiennette ctiennette\n",
      "antoine aupène\n",
      "claude clause\n",
      "gilbert gilbeup\n",
      "pierre anne\n",
      "marthe marthy\n",
      "alix alice\n",
      "françoise faul\n",
      "françois antoine zean antoine\n",
      "antonie entonie\n",
      "jean-baptiste jean-haptiste\n",
      "jean-claude jean blanse\n",
      "victor vicher\n",
      "madeleine mareleine\n",
      "jean raymond jean-raymond\n",
      "france franco\n",
      "blaise clause\n",
      "baptiste bt\n",
      "simon simone\n",
      "marie-louise marie s\n",
      "madeleine vadeleine\n",
      "théodore théodote\n",
      "barthélémy barthe\n",
      "françois ferd\n",
      "pétronille gihromille\n"
     ]
    }
   ],
   "source": [
    "\n",
    "for i in range(len(df_transcriptions)):\n",
    "    if df_transcriptions['extracted_firstname_gt'].iloc[i] != df_transcriptions['extracted_firstname_pred'].iloc[i]:\n",
    "        print(df_transcriptions['extracted_firstname_gt'].iloc[i], df_transcriptions['extracted_firstname_pred'].iloc[i])\n"
   ]
  },
  {
   "cell_type": "code",
   "execution_count": 24,
   "metadata": {},
   "outputs": [
    {
     "data": {
      "text/html": [
       "<div>\n",
       "<style scoped>\n",
       "    .dataframe tbody tr th:only-of-type {\n",
       "        vertical-align: middle;\n",
       "    }\n",
       "\n",
       "    .dataframe tbody tr th {\n",
       "        vertical-align: top;\n",
       "    }\n",
       "\n",
       "    .dataframe thead th {\n",
       "        text-align: right;\n",
       "    }\n",
       "</style>\n",
       "<table border=\"1\" class=\"dataframe\">\n",
       "  <thead>\n",
       "    <tr style=\"text-align: right;\">\n",
       "      <th></th>\n",
       "      <th>subject_line</th>\n",
       "      <th>groundtruth</th>\n",
       "      <th>prediction</th>\n",
       "      <th>sex</th>\n",
       "      <th>extracted_firstname_gt</th>\n",
       "      <th>extracted_firstname_pred</th>\n",
       "      <th>sex_binary</th>\n",
       "    </tr>\n",
       "  </thead>\n",
       "  <tbody>\n",
       "    <tr>\n",
       "      <th>0</th>\n",
       "      <td>ebb26ada-044c-4c62-9dbc-a9c8d505d31c</td>\n",
       "      <td>surname: Chardon firstname: Marie occupation: idem link: fille age: 30</td>\n",
       "      <td>nom: Chardon prénom: Marie date_naissance: 30 lieux_naissance: \"</td>\n",
       "      <td>femme</td>\n",
       "      <td>marie</td>\n",
       "      <td>marie</td>\n",
       "      <td>1.0</td>\n",
       "    </tr>\n",
       "    <tr>\n",
       "      <th>1</th>\n",
       "      <td>338496f5-e4ca-43ac-aa5c-429cb3f6ac00</td>\n",
       "      <td>surname: Lhopital firstname: Louis-Jean occupation: sp link: chef age: 67</td>\n",
       "      <td>nom: Lhopital prénom: Louis Jean date_naissance: 67 lieux_naissance: Sn employeur: ahef</td>\n",
       "      <td>homme</td>\n",
       "      <td>louis-jean</td>\n",
       "      <td>louis jean</td>\n",
       "      <td>0.0</td>\n",
       "    </tr>\n",
       "    <tr>\n",
       "      <th>2</th>\n",
       "      <td>e6a279da-9b6f-4f49-b498-64857bc50d1e</td>\n",
       "      <td>surname: Papin firstname: Marie occupation: idem link: idem employer: idem age: 15</td>\n",
       "      <td>nom: Pyrin prénom: Marie date_naissance: 55 relation: d</td>\n",
       "      <td>femme</td>\n",
       "      <td>marie</td>\n",
       "      <td>marie</td>\n",
       "      <td>1.0</td>\n",
       "    </tr>\n",
       "  </tbody>\n",
       "</table>\n",
       "</div>"
      ],
      "text/plain": [
       "                           subject_line  \\\n",
       "0  ebb26ada-044c-4c62-9dbc-a9c8d505d31c   \n",
       "1  338496f5-e4ca-43ac-aa5c-429cb3f6ac00   \n",
       "2  e6a279da-9b6f-4f49-b498-64857bc50d1e   \n",
       "\n",
       "                                                                           groundtruth  \\\n",
       "0              surname: Chardon firstname: Marie occupation: idem link: fille age: 30    \n",
       "1           surname: Lhopital firstname: Louis-Jean occupation: sp link: chef age: 67    \n",
       "2  surname: Papin firstname: Marie occupation: idem link: idem employer: idem age: 15    \n",
       "\n",
       "                                                                                 prediction  \\\n",
       "0                         nom: Chardon prénom: Marie date_naissance: 30 lieux_naissance: \"    \n",
       "1  nom: Lhopital prénom: Louis Jean date_naissance: 67 lieux_naissance: Sn employeur: ahef    \n",
       "2                                  nom: Pyrin prénom: Marie date_naissance: 55 relation: d    \n",
       "\n",
       "     sex extracted_firstname_gt extracted_firstname_pred  sex_binary  \n",
       "0  femme                  marie                    marie         1.0  \n",
       "1  homme             louis-jean               louis jean         0.0  \n",
       "2  femme                  marie                    marie         1.0  "
      ]
     },
     "execution_count": 24,
     "metadata": {},
     "output_type": "execute_result"
    }
   ],
   "source": [
    "df_transcriptions.head(3)"
   ]
  },
  {
   "cell_type": "markdown",
   "metadata": {},
   "source": [
    "Let's exctract other data"
   ]
  },
  {
   "cell_type": "code",
   "execution_count": 25,
   "metadata": {},
   "outputs": [],
   "source": [
    "def extract_occupation(text):\n",
    "    parts = text.split()\n",
    "    for i, part in enumerate(parts):\n",
    "        if part == \"occupation:\":\n",
    "            return parts[i+1]\n",
    "    return None\n",
    "\n",
    "def extract_link(text):\n",
    "    parts = text.split()\n",
    "    for i, part in enumerate(parts):\n",
    "        if part == \"link:\":\n",
    "            return parts[i+1]\n",
    "    return None\n",
    "\n",
    "def extract_profession(text):\n",
    "    parts = text.split()\n",
    "    for i, part in enumerate(parts):\n",
    "        if part == \"profession:\":\n",
    "            return parts[i+1]\n",
    "    return None\n",
    "\n",
    "def extract_relation(text):\n",
    "    parts = text.split()\n",
    "    for i, part in enumerate(parts):\n",
    "        if part == \"relation:\":\n",
    "            return parts[i+1]\n",
    "    return None\n",
    "\n"
   ]
  },
  {
   "cell_type": "code",
   "execution_count": 26,
   "metadata": {},
   "outputs": [],
   "source": [
    "# Fusion basée sur les prénoms extraits\n",
    "df_combined = pd.merge(df_transcriptions,\n",
    "                       df_prenoms[['firstname', 'gender_probability']],\n",
    "                       left_on='extracted_firstname_gt',\n",
    "                       right_on='firstname',\n",
    "                       how='left')\n",
    "\n",
    "\n",
    "df_combined_pred = pd.merge(df_transcriptions,\n",
    "                       df_prenoms[['firstname', 'gender_probability']],\n",
    "                       left_on='extracted_firstname_pred',  # using predicted instead of groundtruth\n",
    "                       right_on='firstname',\n",
    "                       how='left')"
   ]
  },
  {
   "cell_type": "code",
   "execution_count": 27,
   "metadata": {},
   "outputs": [],
   "source": [
    "df_transcriptions['occupation'] = df_combined['groundtruth'].apply(extract_occupation)\n",
    "df_transcriptions['link'] = df_combined['groundtruth'].apply(extract_link)\n",
    "df_transcriptions['profession'] = df_combined_pred['prediction'].apply(extract_profession)\n",
    "df_transcriptions['relation'] = df_combined_pred['prediction'].apply(extract_relation)"
   ]
  },
  {
   "cell_type": "code",
   "execution_count": 44,
   "metadata": {},
   "outputs": [],
   "source": [
    "df_combined['occupation'] = df_combined['groundtruth'].apply(extract_occupation)\n",
    "df_combined['link'] = df_combined['groundtruth'].apply(extract_link)\n",
    "df_combined_pred['profession'] = df_combined_pred['prediction'].apply(extract_profession)\n",
    "df_combined_pred['relation'] = df_combined_pred['prediction'].apply(extract_relation)"
   ]
  },
  {
   "cell_type": "code",
   "execution_count": 46,
   "metadata": {},
   "outputs": [
    {
     "data": {
      "text/html": [
       "<div>\n",
       "<style scoped>\n",
       "    .dataframe tbody tr th:only-of-type {\n",
       "        vertical-align: middle;\n",
       "    }\n",
       "\n",
       "    .dataframe tbody tr th {\n",
       "        vertical-align: top;\n",
       "    }\n",
       "\n",
       "    .dataframe thead th {\n",
       "        text-align: right;\n",
       "    }\n",
       "</style>\n",
       "<table border=\"1\" class=\"dataframe\">\n",
       "  <thead>\n",
       "    <tr style=\"text-align: right;\">\n",
       "      <th></th>\n",
       "      <th>subject_line</th>\n",
       "      <th>groundtruth</th>\n",
       "      <th>prediction</th>\n",
       "      <th>sex</th>\n",
       "      <th>extracted_firstname_gt</th>\n",
       "      <th>extracted_firstname_pred</th>\n",
       "      <th>sex_binary</th>\n",
       "      <th>firstname</th>\n",
       "      <th>gender_probability</th>\n",
       "      <th>predicted_gender_proba_only</th>\n",
       "      <th>occupation</th>\n",
       "      <th>link</th>\n",
       "      <th>predicted_gender_all_data</th>\n",
       "    </tr>\n",
       "  </thead>\n",
       "  <tbody>\n",
       "    <tr>\n",
       "      <th>0</th>\n",
       "      <td>ebb26ada-044c-4c62-9dbc-a9c8d505d31c</td>\n",
       "      <td>surname: Chardon firstname: Marie occupation: idem link: fille age: 30</td>\n",
       "      <td>nom: Chardon prénom: Marie date_naissance: 30 lieux_naissance: \"</td>\n",
       "      <td>femme</td>\n",
       "      <td>marie</td>\n",
       "      <td>marie</td>\n",
       "      <td>1.0</td>\n",
       "      <td>marie</td>\n",
       "      <td>0.995774</td>\n",
       "      <td>1</td>\n",
       "      <td>idem</td>\n",
       "      <td>fille</td>\n",
       "      <td>1</td>\n",
       "    </tr>\n",
       "    <tr>\n",
       "      <th>1</th>\n",
       "      <td>338496f5-e4ca-43ac-aa5c-429cb3f6ac00</td>\n",
       "      <td>surname: Lhopital firstname: Louis-Jean occupation: sp link: chef age: 67</td>\n",
       "      <td>nom: Lhopital prénom: Louis Jean date_naissance: 67 lieux_naissance: Sn employeur: ahef</td>\n",
       "      <td>homme</td>\n",
       "      <td>louis-jean</td>\n",
       "      <td>louis jean</td>\n",
       "      <td>0.0</td>\n",
       "      <td>NaN</td>\n",
       "      <td>NaN</td>\n",
       "      <td>0</td>\n",
       "      <td>sp</td>\n",
       "      <td>chef</td>\n",
       "      <td>0</td>\n",
       "    </tr>\n",
       "  </tbody>\n",
       "</table>\n",
       "</div>"
      ],
      "text/plain": [
       "                           subject_line  \\\n",
       "0  ebb26ada-044c-4c62-9dbc-a9c8d505d31c   \n",
       "1  338496f5-e4ca-43ac-aa5c-429cb3f6ac00   \n",
       "\n",
       "                                                                  groundtruth  \\\n",
       "0     surname: Chardon firstname: Marie occupation: idem link: fille age: 30    \n",
       "1  surname: Lhopital firstname: Louis-Jean occupation: sp link: chef age: 67    \n",
       "\n",
       "                                                                                 prediction  \\\n",
       "0                         nom: Chardon prénom: Marie date_naissance: 30 lieux_naissance: \"    \n",
       "1  nom: Lhopital prénom: Louis Jean date_naissance: 67 lieux_naissance: Sn employeur: ahef    \n",
       "\n",
       "     sex extracted_firstname_gt extracted_firstname_pred  sex_binary  \\\n",
       "0  femme                  marie                    marie         1.0   \n",
       "1  homme             louis-jean               louis jean         0.0   \n",
       "\n",
       "  firstname  gender_probability  predicted_gender_proba_only occupation  \\\n",
       "0     marie            0.995774                            1       idem   \n",
       "1       NaN                 NaN                            0         sp   \n",
       "\n",
       "    link  predicted_gender_all_data  \n",
       "0  fille                          1  \n",
       "1   chef                          0  "
      ]
     },
     "execution_count": 46,
     "metadata": {},
     "output_type": "execute_result"
    }
   ],
   "source": [
    "df_combined.head(2)"
   ]
  },
  {
   "cell_type": "code",
   "execution_count": 29,
   "metadata": {},
   "outputs": [],
   "source": [
    "pd.set_option('display.max_rows', None)\n"
   ]
  },
  {
   "cell_type": "code",
   "execution_count": 30,
   "metadata": {},
   "outputs": [
    {
     "name": "stdout",
     "output_type": "stream",
     "text": [
      "['femme' 'homme' 'ambigu']\n"
     ]
    }
   ],
   "source": [
    "unique_sex_values = df_combined['sex'].unique()\n",
    "print(unique_sex_values)\n"
   ]
  },
  {
   "cell_type": "code",
   "execution_count": 31,
   "metadata": {},
   "outputs": [
    {
     "name": "stdout",
     "output_type": "stream",
     "text": [
      "sex           ambigu  femme  homme\n",
      "link                              \n",
      "Chef             0.0    1.0    2.0\n",
      "Domestique       0.0    1.0    0.0\n",
      "Fils             0.0    0.0    1.0\n",
      "Leur             0.0    0.0    1.0\n",
      "Sa               0.0    2.0    0.0\n",
      "Schouer          0.0    1.0    0.0\n",
      "Son              0.0    0.0    1.0\n",
      "assisté          0.0    0.0    2.0\n",
      "belle-mère       0.0    3.0    0.0\n",
      "bru              0.0    3.0    0.0\n",
      "ch.              0.0    0.0    3.0\n",
      "chef             4.0    6.0   43.0\n",
      "domest.          0.0    1.0    0.0\n",
      "domestique       0.0    1.0    4.0\n",
      "enf              0.0    1.0    0.0\n",
      "enfant           1.0    9.0   13.0\n",
      "femme            0.0   20.0    0.0\n",
      "fille            0.0   13.0    0.0\n",
      "fils             0.0    0.0   18.0\n",
      "frère            0.0    0.0    2.0\n",
      "idem             4.0    8.0   17.0\n",
      "leur             0.0    1.0    5.0\n",
      "mère             0.0    4.0    0.0\n",
      "mére             0.0    1.0    0.0\n",
      "ouvrier          0.0    0.0    1.0\n",
      "pensionnaire     0.0    0.0    1.0\n",
      "petit-fils       0.0    0.0    2.0\n",
      "petite-fille     0.0    1.0    0.0\n",
      "père             0.0    0.0    2.0\n",
      "sa               0.0    5.0    0.0\n",
      "son              0.0    0.0    2.0\n",
      "ép               0.0    3.0    0.0\n",
      "épouse           0.0   16.0    0.0\n"
     ]
    }
   ],
   "source": [
    "link_counts = df_transcriptions.groupby('link')['sex'].value_counts().unstack().fillna(0)\n",
    "print(link_counts)"
   ]
  },
  {
   "cell_type": "code",
   "execution_count": 53,
   "metadata": {},
   "outputs": [
    {
     "name": "stdout",
     "output_type": "stream",
     "text": [
      "sex              ambigu  femme  homme\n",
      "occupation                           \n",
      "Cultivateur         0.0    0.0    1.0\n",
      "Domestique          0.0    1.0    0.0\n",
      "Garde               0.0    0.0    1.0\n",
      "Métayer             0.0    0.0    1.0\n",
      "Propriétaire        0.0    0.0    1.0\n",
      "Sans                0.0    1.0    0.0\n",
      "agent               0.0    0.0    1.0\n",
      "argentière          0.0    1.0    0.0\n",
      "blanchiseuse        0.0    1.0    0.0\n",
      "boulanger           0.0    1.0    0.0\n",
      "buraliste           0.0    0.0    1.0\n",
      "cantonnier          0.0    0.0    1.0\n",
      "charcutier          0.0    0.0    1.0\n",
      "charretier          0.0    0.0    1.0\n",
      "clerc               0.0    0.0    1.0\n",
      "coiffeur            0.0    0.0    1.0\n",
      "couturière          0.0    1.0    0.0\n",
      "couvreur            0.0    0.0    1.0\n",
      "culivateur          0.0    0.0    1.0\n",
      "cullotière          0.0    1.0    0.0\n",
      "cult                0.0    0.0    3.0\n",
      "cultiv              0.0    0.0    1.0\n",
      "cultivat            0.0    1.0    0.0\n",
      "cultivateur         1.0    0.0   12.0\n",
      "cultivatrice        0.0    0.0    1.0\n",
      "domest.             0.0    1.0    0.0\n",
      "domestique          0.0    4.0    5.0\n",
      "déposit             0.0    1.0    0.0\n",
      "employé             0.0    0.0    2.0\n",
      "employée            0.0    1.0    0.0\n",
      "femme               0.0    1.0    0.0\n",
      "forgeron            0.0    0.0    2.0\n",
      "garde               0.0    0.0    1.0\n",
      "garde-champêtre     0.0    0.0    1.0\n",
      "idem                6.0   23.0   25.0\n",
      "imprimeur           0.0    0.0    1.0\n",
      "jardinier           0.0    0.0    1.0\n",
      "journalier          1.0    0.0    3.0\n",
      "journalière         0.0    1.0    0.0\n",
      "manoeuvre           0.0    0.0    5.0\n",
      "menuisier           0.0    0.0    1.0\n",
      "métayer             0.0    0.0    5.0\n",
      "nourrisson          0.0    0.0    1.0\n",
      "néant               0.0   13.0    2.0\n",
      "ouvrier             0.0    0.0    2.0\n",
      "patissier           0.0    0.0    1.0\n",
      "propriétaire        0.0    1.0    0.0\n",
      "quincaillier        0.0    1.0    0.0\n",
      "receveur            0.0    0.0    1.0\n",
      "rentière            0.0    1.0    0.0\n",
      "repasseuse          0.0    1.0    0.0\n",
      "roulier             0.0    0.0    1.0\n",
      "s                   0.0    3.0    0.0\n",
      "s.p                 1.0    6.0    3.0\n",
      "s.p.                0.0    2.0    1.0\n",
      "sans                0.0   13.0    1.0\n",
      "sellier             0.0    0.0    1.0\n",
      "sp                  0.0    6.0    4.0\n",
      "tisserand           0.0    0.0    1.0\n",
      "tourneur            0.0    0.0    1.0\n",
      "voiturier           0.0    0.0    1.0\n"
     ]
    }
   ],
   "source": [
    "occupation_counts = df_transcriptions.groupby('occupation')['sex'].value_counts().unstack().fillna(0)\n",
    "print(occupation_counts)"
   ]
  },
  {
   "cell_type": "code",
   "execution_count": 32,
   "metadata": {},
   "outputs": [
    {
     "name": "stdout",
     "output_type": "stream",
     "text": [
      "11 37\n"
     ]
    }
   ],
   "source": [
    "# nombre de nan dans first name\n",
    "print(df_combined['firstname'].isna().sum(),df_combined_pred['firstname'].isna().sum())"
   ]
  },
  {
   "cell_type": "code",
   "execution_count": null,
   "metadata": {},
   "outputs": [],
   "source": []
  },
  {
   "cell_type": "code",
   "execution_count": 33,
   "metadata": {},
   "outputs": [
    {
     "data": {
      "text/plain": [
       "(241, 9)"
      ]
     },
     "execution_count": 33,
     "metadata": {},
     "output_type": "execute_result"
    }
   ],
   "source": [
    "df_combined.shape"
   ]
  },
  {
   "cell_type": "markdown",
   "metadata": {},
   "source": [
    "### Stats descriptives"
   ]
  },
  {
   "cell_type": "code",
   "execution_count": 34,
   "metadata": {},
   "outputs": [
    {
     "name": "stdout",
     "output_type": "stream",
     "text": [
      "               male        female         total  gender_probability\n",
      "count  6.946000e+03  6.946000e+03  6.946000e+03         6946.000000\n",
      "mean   2.084710e+03  1.795356e+03  3.880067e+03            0.510974\n",
      "std    3.725168e+04  3.738858e+04  5.290102e+04            0.477295\n",
      "min    0.000000e+00  0.000000e+00  1.000000e+01            0.000000\n",
      "25%    0.000000e+00  0.000000e+00  1.600000e+01            0.000000\n",
      "50%    1.100000e+01  1.200000e+01  3.500000e+01            0.631579\n",
      "75%    4.000000e+01  4.300000e+01  1.450000e+02            1.000000\n",
      "max    1.869615e+06  2.390322e+06  2.400467e+06            1.000000\n",
      "Pourcentage de prénoms masculins: 53.73%\n",
      "Pourcentage de prénoms féminins: 46.27%\n"
     ]
    }
   ],
   "source": [
    "descriptive_stats = df_prenoms.describe()\n",
    "\n",
    "# Calcul de la répartition par genre\n",
    "total_male = df_prenoms['male'].sum()\n",
    "total_female = df_prenoms['female'].sum()\n",
    "total = total_male + total_female\n",
    "\n",
    "male_percentage = (total_male / total) * 100\n",
    "female_percentage = (total_female / total) * 100\n",
    "\n",
    "# Affichage des statistiques descriptives\n",
    "print(descriptive_stats)\n",
    "\n",
    "# Affichage de la répartition par genre\n",
    "print(f\"Pourcentage de prénoms masculins: {male_percentage:.2f}%\")\n",
    "print(f\"Pourcentage de prénoms féminins: {female_percentage:.2f}%\")"
   ]
  },
  {
   "cell_type": "code",
   "execution_count": 35,
   "metadata": {},
   "outputs": [
    {
     "name": "stdout",
     "output_type": "stream",
     "text": [
      "14480397 12470545\n"
     ]
    }
   ],
   "source": [
    "print(total_male,total_female)"
   ]
  },
  {
   "cell_type": "markdown",
   "metadata": {},
   "source": [
    "## First predictions :"
   ]
  },
  {
   "cell_type": "markdown",
   "metadata": {},
   "source": [
    "### Let's start with the clean data : using only the probability of the first name being in one gender (ground truth data)"
   ]
  },
  {
   "cell_type": "code",
   "execution_count": 36,
   "metadata": {},
   "outputs": [
    {
     "name": "stdout",
     "output_type": "stream",
     "text": [
      "Baseline accuracy: 0.9543568464730291\n"
     ]
    }
   ],
   "source": [
    "# Predict gender based on gender probability\n",
    "df_combined['predicted_gender_proba_only'] = df_combined['gender_probability'].apply(lambda x: 1 if x > 0.5 else 0)\n",
    "\n",
    "# Compute accuracy\n",
    "accuracy = (df_combined['predicted_gender_proba_only'] == df_combined['sex_binary']).mean()\n",
    "print(\"Baseline accuracy:\", accuracy)\n",
    "\n",
    "# Accuracy is 0.975 with the baseline. It is a good results but we have to keep in mind that the data is clean.\n"
   ]
  },
  {
   "cell_type": "code",
   "execution_count": 37,
   "metadata": {},
   "outputs": [
    {
     "name": "stdout",
     "output_type": "stream",
     "text": [
      "0.03734439834024896\n"
     ]
    }
   ],
   "source": [
    "\n",
    "print(df_combined['sex_binary'].isna().sum()/len(df_combined))\n",
    "\n"
   ]
  },
  {
   "cell_type": "code",
   "execution_count": null,
   "metadata": {},
   "outputs": [],
   "source": []
  },
  {
   "cell_type": "markdown",
   "metadata": {},
   "source": [
    "### Now with predicted data"
   ]
  },
  {
   "cell_type": "code",
   "execution_count": 38,
   "metadata": {},
   "outputs": [
    {
     "name": "stdout",
     "output_type": "stream",
     "text": [
      "Baseline accuracy: 0.9045643153526971\n"
     ]
    }
   ],
   "source": [
    "# Predict gender based on gender probability\n",
    "df_combined_pred['predicted_gender_proba_only'] = df_combined_pred['gender_probability'].apply(lambda x: 1 if x > 0.5 else 0)\n",
    "\n",
    "# Compute accuracy\n",
    "accuracy = (df_combined_pred['predicted_gender_proba_only'] == df_combined_pred['sex_binary']).mean()\n",
    "print(\"Baseline accuracy:\", accuracy)\n",
    "\n",
    "\n",
    "\n",
    "\n",
    "# 90% accuraccy on the prediction data\n"
   ]
  },
  {
   "cell_type": "code",
   "execution_count": 39,
   "metadata": {},
   "outputs": [
    {
     "name": "stdout",
     "output_type": "stream",
     "text": [
      "Baseline accuracy: 0.8049792531120332\n"
     ]
    }
   ],
   "source": [
    "# Predict gender based on gender probability\n",
    "df_combined_pred['predicted_gender_proba_only'] = df_combined_pred['gender_probability'].apply(lambda x: 1 if x > 0.5 else (0 if x <= 0.5 else x))\n",
    "# Compute accuracy\n",
    "accuracy = (df_combined_pred['predicted_gender_proba_only'] == df_combined_pred['sex_binary']).mean()\n",
    "print(\"Baseline accuracy:\", accuracy)\n",
    "\n",
    "\n",
    "\n",
    "\n"
   ]
  },
  {
   "cell_type": "markdown",
   "metadata": {},
   "source": [
    "### Now let's take into account the links and occupations"
   ]
  },
  {
   "cell_type": "code",
   "execution_count": 54,
   "metadata": {},
   "outputs": [],
   "source": [
    "# Define the lists for male and female links and occupations\n",
    "male_links = ['Son', 'Fils', 'Père', 'Frère','Chef']\n",
    "female_links = ['Fille', 'Fils', 'Mère', 'Soeur']\n",
    "#male_occupations = ['Chef'] # men were the only chef of the house at the time of the dataset\n",
    "#female_occupations = ['Femme']\n",
    "\n",
    "# Define a function to determine the predicted gender based on link and occupation\n",
    "def predict_gender_gt(row):\n",
    "    if row['link'] in male_links:\n",
    "        return 0\n",
    "    elif row['link'] in female_links:\n",
    "        return 1\n",
    "    elif row['occupation'] in male_occupations:\n",
    "        return 0\n",
    "    elif row['occupation'] in female_occupations:\n",
    "        return 1\n",
    "    else:\n",
    "        return 1 if row['gender_probability'] > 0.5 else 0\n",
    "    \n",
    "def predict_gender_pred(row):\n",
    "    if row['relation'] in male_links:\n",
    "        return 0\n",
    "    elif row['relation'] in female_links:\n",
    "        return 1\n",
    "    elif row['profession'] in male_occupations:\n",
    "        return 0\n",
    "    elif row['profession'] in female_occupations:\n",
    "        return 1\n",
    "    else:\n",
    "        return 1 if row['gender_probability'] > 0.5 else 0    \n",
    "\n",
    "\n",
    "\n",
    "# Apply the function to create the predicted_gender_all_data column\n",
    "df_combined['predicted_gender_all_data'] = df_combined.apply(predict_gender_gt, axis=1)\n",
    "df_combined_pred['predicted_gender_all_data'] = df_combined_pred.apply(predict_gender_pred, axis=1)\n"
   ]
  },
  {
   "cell_type": "code",
   "execution_count": 55,
   "metadata": {},
   "outputs": [
    {
     "name": "stdout",
     "output_type": "stream",
     "text": [
      "Accuracy: 0.9004149377593361\n"
     ]
    }
   ],
   "source": [
    "accuracy = (df_combined_pred['predicted_gender_all_data'] == df_combined_pred['sex_binary']).mean()\n",
    "print(\"Accuracy:\", accuracy)\n",
    "\n",
    "#Accuracy of 0.90% "
   ]
  },
  {
   "cell_type": "markdown",
   "metadata": {},
   "source": [
    "## Let's try NLP models ! "
   ]
  },
  {
   "cell_type": "markdown",
   "metadata": {},
   "source": [
    "### Zero shot prediction"
   ]
  },
  {
   "cell_type": "markdown",
   "metadata": {},
   "source": [
    "Zero shot on ground truth data"
   ]
  },
  {
   "cell_type": "code",
   "execution_count": null,
   "metadata": {},
   "outputs": [
    {
     "name": "stderr",
     "output_type": "stream",
     "text": [
      "No model was supplied, defaulted to facebook/bart-large-mnli and revision c626438 (https://huggingface.co/facebook/bart-large-mnli).\n",
      "Using a pipeline without specifying a model name and revision in production is not recommended.\n",
      "Error while downloading from https://cdn-lfs.huggingface.co/facebook/bart-large-mnli/cfbb687dbbd9df99fe865e1860350a22aebac4d26ee4bcb50217f1df606a018e?response-content-disposition=attachment%3B+filename*%3DUTF-8%27%27model.safetensors%3B+filename%3D%22model.safetensors%22%3B&Expires=1712580526&Policy=eyJTdGF0ZW1lbnQiOlt7IkNvbmRpdGlvbiI6eyJEYXRlTGVzc1RoYW4iOnsiQVdTOkVwb2NoVGltZSI6MTcxMjU4MDUyNn19LCJSZXNvdXJjZSI6Imh0dHBzOi8vY2RuLWxmcy5odWdnaW5nZmFjZS5jby9mYWNlYm9vay9iYXJ0LWxhcmdlLW1ubGkvY2ZiYjY4N2RiYmQ5ZGY5OWZlODY1ZTE4NjAzNTBhMjJhZWJhYzRkMjZlZTRiY2I1MDIxN2YxZGY2MDZhMDE4ZT9yZXNwb25zZS1jb250ZW50LWRpc3Bvc2l0aW9uPSoifV19&Signature=hiTC6XAVmspAo9BeEaFG0kBxjbMieLCIVOBQw4au3XiRi%7EYHlsVNt37hRH7PXZneMDgj1tQP33hNkyxePSBnygWd3Kh8aytfiTYBYuJ5SzrzJI6Syr-jSr5YeM5O0AYC2Gw7XIrlrR43%7Er-ew0LJoU9rlBMZZBhWZS%7E1mq5IcTvvS65q0XlN9togrd-Ek5WSFqfCdEFyNUR7ycRc0Mnk4PABaeuM944J6nOYUpau-hN6xHayQ7-ZResYp%7EwAk6pACmmpX9iXxMMbNk7NdWc6nN01UCkQoK98nduTCnk8vNXrAHpV5mGEYjgJsd%7EWHzaK1J5nr%7EKBCK9lkhtbK0uK7Q__&Key-Pair-Id=KVTP0A1DKRTAX: HTTPSConnectionPool(host='cdn-lfs.huggingface.co', port=443): Read timed out.\n",
      "Trying to resume download...\n",
      "Error while downloading from https://cdn-lfs.huggingface.co/facebook/bart-large-mnli/cfbb687dbbd9df99fe865e1860350a22aebac4d26ee4bcb50217f1df606a018e?response-content-disposition=attachment%3B+filename*%3DUTF-8%27%27model.safetensors%3B+filename%3D%22model.safetensors%22%3B&Expires=1712583406&Policy=eyJTdGF0ZW1lbnQiOlt7IkNvbmRpdGlvbiI6eyJEYXRlTGVzc1RoYW4iOnsiQVdTOkVwb2NoVGltZSI6MTcxMjU4MzQwNn19LCJSZXNvdXJjZSI6Imh0dHBzOi8vY2RuLWxmcy5odWdnaW5nZmFjZS5jby9mYWNlYm9vay9iYXJ0LWxhcmdlLW1ubGkvY2ZiYjY4N2RiYmQ5ZGY5OWZlODY1ZTE4NjAzNTBhMjJhZWJhYzRkMjZlZTRiY2I1MDIxN2YxZGY2MDZhMDE4ZT9yZXNwb25zZS1jb250ZW50LWRpc3Bvc2l0aW9uPSoifV19&Signature=vI67kec9cRWvC-2B3UHQznDDGWBn6N367Tl1%7EUMVa8GUT0575UQFsfJlRk5KWbzOnYK%7EN%7E7OrtWVj-pj%7EJBmvrxqzS9F80mZrJ2UmszEgcjILS6kn3dBUvgETiRr5qljwuzfiDOm9etD8Y4tElM7sIDruCm%7ENZoeI0stO1kMW5BRiKsZCk13TtK2kV08%7EZ8QGvEEON9CsgzPkYvasAqSS2BQxiwvybK5mPD4BkCGhcdXK8ctNfWSJZjTr5xDa09MwZyj9sbsrdBQwvrskWz5XmrNiXiO3dGBN7pR8BDgUDo8EYXA%7EdLnHWH3WYcnMu0Ce-aF4noTKzfvZdKVbYfAzQ__&Key-Pair-Id=KVTP0A1DKRTAX: HTTPSConnectionPool(host='cdn-lfs.huggingface.co', port=443): Read timed out.\n",
      "Trying to resume download...\n",
      "Some weights of BartForSequenceClassification were not initialized from the model checkpoint at facebook/bart-large-mnli and are newly initialized: ['model.decoder.embed_tokens.weight', 'model.encoder.embed_tokens.weight']\n",
      "You should probably TRAIN this model on a down-stream task to be able to use it for predictions and inference.\n"
     ]
    }
   ],
   "source": [
    "\n",
    "''' can be long to run\n",
    "from transformers import pipeline\n",
    "\n",
    "# Initialize zero-shot classification pipeline\n",
    "classifier = pipeline(\"zero-shot-classification\")\n",
    "\n",
    "# Define candidate labels\n",
    "labels = [\"male\", \"female\"]\n",
    "\n",
    "\n",
    "predictions = []\n",
    "for text in df_combined['groundtruth']:\n",
    "    # Predict the label of the text\n",
    "    result = classifier(text, labels)\n",
    "    # Get the label with the highest score\n",
    "    predicted_label = result[\"labels\"][result[\"scores\"].index(max(result[\"scores\"]))]\n",
    "    predictions.append(predicted_label)\n",
    "\n",
    "# Add predictions to DataFrame\n",
    "df_combined['predicted_sex_zero_shot'] = predictions\n",
    "'''"
   ]
  },
  {
   "cell_type": "code",
   "execution_count": null,
   "metadata": {},
   "outputs": [
    {
     "data": {
      "text/plain": [
       "0.9377593360995851"
      ]
     },
     "execution_count": 90,
     "metadata": {},
     "output_type": "execute_result"
    }
   ],
   "source": [
    "'''\n",
    "df_combined['predicted_sex_zero_shot_binary'] = df_combined['predicted_sex_zero_shot'].apply(lambda x: 1 if x == 'female' else 0)\n",
    "\n",
    "accuracy_zero_shot = (df_combined['predicted_sex_zero_shot_binary'] == df_combined['sex_binary']).mean()\n",
    "accuracy_zero_shot\n",
    "\n",
    "# 0.937759% accuracy with zero shot classification\n",
    "'''"
   ]
  },
  {
   "cell_type": "code",
   "execution_count": null,
   "metadata": {},
   "outputs": [
    {
     "name": "stderr",
     "output_type": "stream",
     "text": [
      "No model was supplied, defaulted to facebook/bart-large-mnli and revision c626438 (https://huggingface.co/facebook/bart-large-mnli).\n",
      "Using a pipeline without specifying a model name and revision in production is not recommended.\n",
      "Some weights of BartForSequenceClassification were not initialized from the model checkpoint at facebook/bart-large-mnli and are newly initialized: ['model.decoder.embed_tokens.weight', 'model.encoder.embed_tokens.weight']\n",
      "You should probably TRAIN this model on a down-stream task to be able to use it for predictions and inference.\n"
     ]
    }
   ],
   "source": [
    "# Initialize zero-shot classification pipeline\n",
    "classifier = pipeline(\"zero-shot-classification\")\n",
    "\n",
    "# Define candidate labels\n",
    "labels = [\"male\", \"female\"]\n",
    "\n",
    "\n",
    "predictions = []\n",
    "for text in df_combined['prediction']:\n",
    "    # Predict the label of the text\n",
    "    result = classifier(text, labels)\n",
    "    # Get the label with the highest score\n",
    "    predicted_label = result[\"labels\"][result[\"scores\"].index(max(result[\"scores\"]))]\n",
    "    predictions.append(predicted_label)\n",
    "\n",
    "# Add predictions to DataFrame\n",
    "df_combined_pred['predicted_sex_zero_shot'] = predictions\n"
   ]
  },
  {
   "cell_type": "code",
   "execution_count": null,
   "metadata": {},
   "outputs": [
    {
     "data": {
      "text/plain": [
       "0.8672199170124482"
      ]
     },
     "execution_count": 92,
     "metadata": {},
     "output_type": "execute_result"
    }
   ],
   "source": [
    "df_combined_pred['predicted_sex_zero_shot_binary'] = df_combined_pred['predicted_sex_zero_shot'].apply(lambda x: 1 if x == 'female' else 0)\n",
    "\n",
    "accuracy_zero_shot = (df_combined_pred['predicted_sex_zero_shot_binary'] == df_combined['sex_binary']).mean()\n",
    "accuracy_zero_shot\n",
    "\n",
    "#accuracy of 0.8672"
   ]
  },
  {
   "cell_type": "code",
   "execution_count": null,
   "metadata": {},
   "outputs": [
    {
     "data": {
      "text/plain": [
       "0      0.995774\n",
       "1           NaN\n",
       "2      0.995774\n",
       "3      0.995774\n",
       "4      0.998233\n",
       "         ...   \n",
       "236    0.997709\n",
       "237    0.004556\n",
       "238    0.998233\n",
       "239    0.004232\n",
       "240    0.997834\n",
       "Name: gender_probability, Length: 241, dtype: float64"
      ]
     },
     "execution_count": 15,
     "metadata": {},
     "output_type": "execute_result"
    }
   ],
   "source": [
    "df_combined['gender_probability']"
   ]
  },
  {
   "cell_type": "markdown",
   "metadata": {},
   "source": [
    "Let's test the model on cases that are impossible for the rule-based model"
   ]
  },
  {
   "cell_type": "code",
   "execution_count": 59,
   "metadata": {},
   "outputs": [
    {
     "name": "stdout",
     "output_type": "stream",
     "text": [
      "Accuracy when probability is NaN: 0.6486486486486487\n"
     ]
    }
   ],
   "source": [
    "# Filter the DataFrame to include only rows where the probability column is NaN\n",
    "df_filtered = df_combined_pred[df_combined_pred['gender_probability'].isna()]\n",
    "\n",
    "# Calculate the accuracy\n",
    "accuracy = (df_filtered['predicted_gender_all_data'] == df_filtered['sex_binary']).mean()\n",
    "\n",
    "# Print the accuracy\n",
    "print(\"Accuracy when probability is NaN:\", accuracy)\n"
   ]
  },
  {
   "cell_type": "code",
   "execution_count": 62,
   "metadata": {},
   "outputs": [
    {
     "data": {
      "text/plain": [
       "(37, 13)"
      ]
     },
     "execution_count": 62,
     "metadata": {},
     "output_type": "execute_result"
    }
   ],
   "source": [
    "df_filtered.shape"
   ]
  },
  {
   "cell_type": "markdown",
   "metadata": {},
   "source": [
    "### Other model"
   ]
  },
  {
   "cell_type": "markdown",
   "metadata": {},
   "source": [
    "### First try with basic settings"
   ]
  },
  {
   "cell_type": "code",
   "execution_count": null,
   "metadata": {},
   "outputs": [
    {
     "name": "stderr",
     "output_type": "stream",
     "text": [
      "/Users/anthonyivanier/anaconda3/lib/python3.10/site-packages/tqdm/auto.py:22: TqdmWarning: IProgress not found. Please update jupyter and ipywidgets. See https://ipywidgets.readthedocs.io/en/stable/user_install.html\n",
      "  from .autonotebook import tqdm as notebook_tqdm\n"
     ]
    }
   ],
   "source": [
    "'''\n",
    "from transformers import DistilBertTokenizer, DistilBertForSequenceClassification, Trainer, TrainingArguments\n",
    "from torch.utils.data import Dataset\n",
    "import torch\n",
    "from sklearn.model_selection import train_test_split\n",
    "\n",
    "tokenizer = DistilBertTokenizer.from_pretrained('distilbert-base-uncased')\n",
    "\n",
    "# Tokenisation et préparation des données pour le modèle\n",
    "class GenderPredictionDataset(Dataset):\n",
    "    def __init__(self, texts, labels, tokenizer):\n",
    "        self.tokenizer = tokenizer\n",
    "        self.texts = texts\n",
    "        self.labels = labels\n",
    "    \n",
    "    def __len__(self):\n",
    "        return len(self.texts)\n",
    "    \n",
    "    def __getitem__(self, idx):\n",
    "        text = self.texts[idx]\n",
    "        labels = self.labels[idx]\n",
    "        encoding = self.tokenizer(text, return_tensors='pt', padding='max_length', truncation=True, max_length=512)\n",
    "        \n",
    "        # Important: Convert 'BatchEncoding' to a more usable format\n",
    "        input_ids = encoding['input_ids'].squeeze()  # Remove batch dimension\n",
    "        attention_mask = encoding['attention_mask'].squeeze() # Remove batch dimension\n",
    "        \n",
    "        return {'input_ids': input_ids, 'attention_mask': attention_mask, 'labels': torch.tensor(labels)}\n",
    "\n",
    "# Preparation des données\n",
    "texts = df_combined['prediction'].tolist()\n",
    "labels = df_combined['sex_binary'].tolist()\n",
    "\n",
    "# Division en ensembles d'entraînement et de test\n",
    "texts_train, texts_test, labels_train, labels_test = train_test_split(texts, labels, test_size=0.2, random_state=42)\n",
    "\n",
    "# Création des datasets\n",
    "train_dataset = GenderPredictionDataset(texts_train, labels_train, tokenizer)\n",
    "test_dataset = GenderPredictionDataset(texts_test, labels_test, tokenizer)\n",
    "'''\n"
   ]
  },
  {
   "cell_type": "code",
   "execution_count": null,
   "metadata": {},
   "outputs": [
    {
     "name": "stderr",
     "output_type": "stream",
     "text": [
      "Some weights of the model checkpoint at distilbert-base-uncased were not used when initializing DistilBertForSequenceClassification: ['vocab_layer_norm.weight', 'vocab_transform.weight', 'vocab_layer_norm.bias', 'vocab_projector.weight', 'vocab_transform.bias', 'vocab_projector.bias']\n",
      "- This IS expected if you are initializing DistilBertForSequenceClassification from the checkpoint of a model trained on another task or with another architecture (e.g. initializing a BertForSequenceClassification model from a BertForPreTraining model).\n",
      "- This IS NOT expected if you are initializing DistilBertForSequenceClassification from the checkpoint of a model that you expect to be exactly identical (initializing a BertForSequenceClassification model from a BertForSequenceClassification model).\n",
      "Some weights of DistilBertForSequenceClassification were not initialized from the model checkpoint at distilbert-base-uncased and are newly initialized: ['classifier.weight', 'pre_classifier.weight', 'classifier.bias', 'pre_classifier.bias']\n",
      "You should probably TRAIN this model on a down-stream task to be able to use it for predictions and inference.\n",
      "/Users/anthonyivanier/anaconda3/lib/python3.10/site-packages/transformers/optimization.py:306: FutureWarning: This implementation of AdamW is deprecated and will be removed in a future version. Use the PyTorch implementation torch.optim.AdamW instead, or set `no_deprecation_warning=True` to disable this warning\n",
      "  warnings.warn(\n",
      "***** Running training *****\n",
      "  Num examples = 192\n",
      "  Num Epochs = 3\n",
      "  Instantaneous batch size per device = 8\n",
      "  Total train batch size (w. parallel, distributed & accumulation) = 8\n",
      "  Gradient Accumulation steps = 1\n",
      "  Total optimization steps = 72\n",
      "  Number of trainable parameters = 66955010\n",
      " 33%|███▎      | 24/72 [01:23<02:44,  3.44s/it]***** Running Evaluation *****\n",
      "  Num examples = 49\n",
      "  Batch size = 8\n",
      "                                               \n",
      " 33%|███▎      | 24/72 [01:29<02:44,  3.44s/it]"
     ]
    },
    {
     "name": "stdout",
     "output_type": "stream",
     "text": [
      "{'eval_loss': 0.6939376592636108, 'eval_runtime': 5.6103, 'eval_samples_per_second': 8.734, 'eval_steps_per_second': 1.248, 'epoch': 1.0}\n"
     ]
    },
    {
     "name": "stderr",
     "output_type": "stream",
     "text": [
      " 67%|██████▋   | 48/72 [02:51<01:22,  3.43s/it]***** Running Evaluation *****\n",
      "  Num examples = 49\n",
      "  Batch size = 8\n",
      "                                               \n",
      " 67%|██████▋   | 48/72 [02:57<01:22,  3.43s/it]"
     ]
    },
    {
     "name": "stdout",
     "output_type": "stream",
     "text": [
      "{'eval_loss': 0.6911244988441467, 'eval_runtime': 5.6169, 'eval_samples_per_second': 8.724, 'eval_steps_per_second': 1.246, 'epoch': 2.0}\n"
     ]
    },
    {
     "name": "stderr",
     "output_type": "stream",
     "text": [
      "100%|██████████| 72/72 [04:21<00:00,  3.53s/it]***** Running Evaluation *****\n",
      "  Num examples = 49\n",
      "  Batch size = 8\n",
      "                                               \n",
      "100%|██████████| 72/72 [04:26<00:00,  3.53s/it]\n",
      "\n",
      "Training completed. Do not forget to share your model on huggingface.co/models =)\n",
      "\n",
      "\n",
      "100%|██████████| 72/72 [04:26<00:00,  3.71s/it]"
     ]
    },
    {
     "name": "stdout",
     "output_type": "stream",
     "text": [
      "{'eval_loss': 0.6831199526786804, 'eval_runtime': 5.6784, 'eval_samples_per_second': 8.629, 'eval_steps_per_second': 1.233, 'epoch': 3.0}\n",
      "{'train_runtime': 266.9419, 'train_samples_per_second': 2.158, 'train_steps_per_second': 0.27, 'train_loss': 0.6858603689405653, 'epoch': 3.0}\n"
     ]
    },
    {
     "name": "stderr",
     "output_type": "stream",
     "text": [
      "\n"
     ]
    },
    {
     "data": {
      "text/plain": [
       "TrainOutput(global_step=72, training_loss=0.6858603689405653, metrics={'train_runtime': 266.9419, 'train_samples_per_second': 2.158, 'train_steps_per_second': 0.27, 'train_loss': 0.6858603689405653, 'epoch': 3.0})"
      ]
     },
     "execution_count": 18,
     "metadata": {},
     "output_type": "execute_result"
    }
   ],
   "source": [
    "'''\n",
    "model = DistilBertForSequenceClassification.from_pretrained('distilbert-base-uncased', num_labels=2)\n",
    "\n",
    "training_args = TrainingArguments(\n",
    "    output_dir='./results',\n",
    "    num_train_epochs=3,\n",
    "    per_device_train_batch_size=8,\n",
    "    per_device_eval_batch_size=8,\n",
    "    warmup_steps=500,\n",
    "    weight_decay=0.01,\n",
    "    logging_dir='./logs',\n",
    "    evaluation_strategy='epoch'\n",
    ")\n",
    "\n",
    "trainer = Trainer(\n",
    "    model=model,\n",
    "    args=training_args,\n",
    "    train_dataset=train_dataset,\n",
    "    eval_dataset=test_dataset\n",
    ")\n",
    "\n",
    "trainer.train()\n",
    "'''\n"
   ]
  },
  {
   "cell_type": "code",
   "execution_count": null,
   "metadata": {},
   "outputs": [],
   "source": []
  },
  {
   "cell_type": "code",
   "execution_count": null,
   "metadata": {},
   "outputs": [
    {
     "name": "stderr",
     "output_type": "stream",
     "text": [
      "***** Running Evaluation *****\n",
      "  Num examples = 49\n",
      "  Batch size = 8\n",
      "100%|██████████| 7/7 [00:04<00:00,  1.44it/s]"
     ]
    },
    {
     "name": "stdout",
     "output_type": "stream",
     "text": [
      "{'eval_loss': 0.6831199526786804, 'eval_runtime': 5.811, 'eval_samples_per_second': 8.432, 'eval_steps_per_second': 1.205, 'epoch': 3.0}\n"
     ]
    },
    {
     "name": "stderr",
     "output_type": "stream",
     "text": [
      "\n"
     ]
    }
   ],
   "source": [
    "'''\n",
    "evaluation_results = trainer.evaluate(test_dataset)\n",
    "print(evaluation_results)\n",
    "'''"
   ]
  },
  {
   "cell_type": "code",
   "execution_count": null,
   "metadata": {},
   "outputs": [
    {
     "name": "stderr",
     "output_type": "stream",
     "text": [
      "***** Running Prediction *****\n",
      "  Num examples = 49\n",
      "  Batch size = 8\n",
      "100%|██████████| 7/7 [00:04<00:00,  1.47it/s]\n"
     ]
    },
    {
     "data": {
      "image/png": "[encoded data removed]",
      "text/plain": [
       "<Figure size 640x480 with 2 Axes>"
      ]
     },
     "metadata": {},
     "output_type": "display_data"
    }
   ],
   "source": [
    "'''\n",
    "from sklearn.metrics import confusion_matrix, ConfusionMatrixDisplay\n",
    "import matplotlib.pyplot as plt\n",
    "\n",
    "# Assuming you have your test labels and predictions\n",
    "predictions = trainer.predict(test_dataset)\n",
    "predicted_labels = predictions.predictions.argmax(axis=1)\n",
    "\n",
    "cm = confusion_matrix(labels_test, predicted_labels)\n",
    "\n",
    "disp = ConfusionMatrixDisplay(confusion_matrix=cm)\n",
    "disp.plot()\n",
    "plt.show()\n",
    "'''"
   ]
  },
  {
   "cell_type": "code",
   "execution_count": 75,
   "metadata": {},
   "outputs": [],
   "source": [
    "df_combined_no_nan = df_combined.dropna()"
   ]
  },
  {
   "cell_type": "code",
   "execution_count": 81,
   "metadata": {},
   "outputs": [
    {
     "name": "stderr",
     "output_type": "stream",
     "text": [
      "loading file vocab.txt from cache at /Users/anthonyivanier/.cache/huggingface/hub/models--distilbert-base-uncased/snapshots/6cdc0aad91f5ae2e6712e91bc7b65d1cf5c05411/vocab.txt\n",
      "loading file added_tokens.json from cache at None\n",
      "loading file special_tokens_map.json from cache at None\n",
      "loading file tokenizer_config.json from cache at /Users/anthonyivanier/.cache/huggingface/hub/models--distilbert-base-uncased/snapshots/6cdc0aad91f5ae2e6712e91bc7b65d1cf5c05411/tokenizer_config.json\n",
      "loading configuration file config.json from cache at /Users/anthonyivanier/.cache/huggingface/hub/models--distilbert-base-uncased/snapshots/6cdc0aad91f5ae2e6712e91bc7b65d1cf5c05411/config.json\n",
      "Model config DistilBertConfig {\n",
      "  \"_name_or_path\": \"distilbert-base-uncased\",\n",
      "  \"activation\": \"gelu\",\n",
      "  \"architectures\": [\n",
      "    \"DistilBertForMaskedLM\"\n",
      "  ],\n",
      "  \"attention_dropout\": 0.1,\n",
      "  \"dim\": 768,\n",
      "  \"dropout\": 0.1,\n",
      "  \"hidden_dim\": 3072,\n",
      "  \"initializer_range\": 0.02,\n",
      "  \"max_position_embeddings\": 512,\n",
      "  \"model_type\": \"distilbert\",\n",
      "  \"n_heads\": 12,\n",
      "  \"n_layers\": 6,\n",
      "  \"pad_token_id\": 0,\n",
      "  \"qa_dropout\": 0.1,\n",
      "  \"seq_classif_dropout\": 0.2,\n",
      "  \"sinusoidal_pos_embds\": false,\n",
      "  \"tie_weights_\": true,\n",
      "  \"transformers_version\": \"4.24.0\",\n",
      "  \"vocab_size\": 30522\n",
      "}\n",
      "\n"
     ]
    }
   ],
   "source": [
    "\n",
    "from transformers import DistilBertTokenizer, DistilBertForSequenceClassification, Trainer, TrainingArguments\n",
    "from torch.utils.data import Dataset\n",
    "import torch\n",
    "from sklearn.model_selection import train_test_split\n",
    "\n",
    "tokenizer = DistilBertTokenizer.from_pretrained('distilbert-base-uncased')\n",
    "\n",
    "# Tokenisation et préparation des données pour le modèle\n",
    "class GenderPredictionDataset(Dataset):\n",
    "    def __init__(self, texts, labels, tokenizer):\n",
    "        self.tokenizer = tokenizer\n",
    "        self.texts = texts\n",
    "        self.labels = labels\n",
    "    \n",
    "    def __len__(self):\n",
    "        return len(self.texts)\n",
    "    \n",
    "    def __getitem__(self, idx):\n",
    "        text = self.texts[idx]\n",
    "        label = int(self.labels[idx])  # Convert label to integer\n",
    "        encoding = self.tokenizer(text, return_tensors='pt', padding='max_length', truncation=True, max_length=512)\n",
    "        \n",
    "        # Convert label to one-hot encoding\n",
    "        label_one_hot = torch.zeros(2)\n",
    "        label_one_hot[label] = 1\n",
    "\n",
    "        # Important: Convert 'BatchEncoding' to a more usable format\n",
    "        input_ids = encoding['input_ids'].squeeze()  # Remove batch dimension\n",
    "        attention_mask = encoding['attention_mask'].squeeze() # Remove batch dimension\n",
    "        \n",
    "        return {'input_ids': input_ids, 'attention_mask': attention_mask, 'labels': label_one_hot}\n",
    "\n",
    "# Preparation des données\n",
    "texts = df_combined_no_nan['prediction'].tolist()\n",
    "labels = df_combined_no_nan['sex_binary'].tolist()\n",
    "\n",
    "# Division en ensembles d'entraînement et de test\n",
    "texts_train, texts_test, labels_train, labels_test = train_test_split(texts, labels, test_size=0.9, random_state=42)\n",
    "\n",
    "# Création des datasets\n",
    "train_dataset = GenderPredictionDataset(texts_train, labels_train, tokenizer)\n",
    "test_dataset = GenderPredictionDataset(texts_test, labels_test, tokenizer)\n",
    "\n"
   ]
  },
  {
   "cell_type": "code",
   "execution_count": 82,
   "metadata": {},
   "outputs": [
    {
     "name": "stderr",
     "output_type": "stream",
     "text": [
      "loading configuration file config.json from cache at /Users/anthonyivanier/.cache/huggingface/hub/models--distilbert-base-uncased/snapshots/6cdc0aad91f5ae2e6712e91bc7b65d1cf5c05411/config.json\n",
      "Model config DistilBertConfig {\n",
      "  \"activation\": \"gelu\",\n",
      "  \"architectures\": [\n",
      "    \"DistilBertForMaskedLM\"\n",
      "  ],\n",
      "  \"attention_dropout\": 0.1,\n",
      "  \"dim\": 768,\n",
      "  \"dropout\": 0.1,\n",
      "  \"hidden_dim\": 3072,\n",
      "  \"initializer_range\": 0.02,\n",
      "  \"max_position_embeddings\": 512,\n",
      "  \"model_type\": \"distilbert\",\n",
      "  \"n_heads\": 12,\n",
      "  \"n_layers\": 6,\n",
      "  \"pad_token_id\": 0,\n",
      "  \"qa_dropout\": 0.1,\n",
      "  \"seq_classif_dropout\": 0.2,\n",
      "  \"sinusoidal_pos_embds\": false,\n",
      "  \"tie_weights_\": true,\n",
      "  \"transformers_version\": \"4.24.0\",\n",
      "  \"vocab_size\": 30522\n",
      "}\n",
      "\n",
      "loading weights file model.safetensors from cache at /Users/anthonyivanier/.cache/huggingface/hub/models--distilbert-base-uncased/snapshots/6cdc0aad91f5ae2e6712e91bc7b65d1cf5c05411/model.safetensors\n",
      "Some weights of the model checkpoint at distilbert-base-uncased were not used when initializing DistilBertForSequenceClassification: ['vocab_transform.weight', 'vocab_layer_norm.bias', 'vocab_projector.bias', 'vocab_transform.bias', 'vocab_layer_norm.weight']\n",
      "- This IS expected if you are initializing DistilBertForSequenceClassification from the checkpoint of a model trained on another task or with another architecture (e.g. initializing a BertForSequenceClassification model from a BertForPreTraining model).\n",
      "- This IS NOT expected if you are initializing DistilBertForSequenceClassification from the checkpoint of a model that you expect to be exactly identical (initializing a BertForSequenceClassification model from a BertForSequenceClassification model).\n",
      "Some weights of DistilBertForSequenceClassification were not initialized from the model checkpoint at distilbert-base-uncased and are newly initialized: ['classifier.weight', 'classifier.bias', 'pre_classifier.bias', 'pre_classifier.weight']\n",
      "You should probably TRAIN this model on a down-stream task to be able to use it for predictions and inference.\n",
      "PyTorch: setting up devices\n",
      "The default value for the training argument `--report_to` will change in v5 (from all installed integrations to none). In v5, you will need to use `--report_to all` to get the same behavior as now. You should start updating your code and make this info disappear :-).\n",
      "/Users/anthonyivanier/anaconda3/lib/python3.10/site-packages/transformers/optimization.py:306: FutureWarning: This implementation of AdamW is deprecated and will be removed in a future version. Use the PyTorch implementation torch.optim.AdamW instead, or set `no_deprecation_warning=True` to disable this warning\n",
      "  warnings.warn(\n",
      "***** Running training *****\n",
      "  Num examples = 17\n",
      "  Num Epochs = 3\n",
      "  Instantaneous batch size per device = 8\n",
      "  Total train batch size (w. parallel, distributed & accumulation) = 8\n",
      "  Gradient Accumulation steps = 1\n",
      "  Total optimization steps = 9\n",
      "  Number of trainable parameters = 66955010\n",
      " 33%|███▎      | 3/9 [00:07<00:13,  2.27s/it]***** Running Evaluation *****\n",
      "  Num examples = 154\n",
      "  Batch size = 8\n",
      "                                             \n",
      "\n",
      "\n",
      "\n",
      "\u001b[A\u001b[A\u001b[A\u001b[A                                  \n",
      " 33%|███▎      | 3/9 [00:24<00:13,  2.27s/it]  \n",
      "\n",
      "\n",
      "\u001b[A\u001b[A\u001b[A"
     ]
    },
    {
     "name": "stdout",
     "output_type": "stream",
     "text": [
      "{'eval_loss': 0.6918838620185852, 'eval_runtime': 16.1128, 'eval_samples_per_second': 9.558, 'eval_steps_per_second': 1.241, 'epoch': 1.0}\n"
     ]
    },
    {
     "name": "stderr",
     "output_type": "stream",
     "text": [
      " 67%|██████▋   | 6/9 [00:31<00:14,  4.83s/it]***** Running Evaluation *****\n",
      "  Num examples = 154\n",
      "  Batch size = 8\n",
      "\n",
      "                                               \n",
      "\n",
      "\n",
      "\n",
      " 67%|██████▋   | 6/9 [00:47<00:14,  4.83s/it] \n",
      "\n",
      "\n",
      "\u001b[A\u001b[A\u001b[A"
     ]
    },
    {
     "name": "stdout",
     "output_type": "stream",
     "text": [
      "{'eval_loss': 0.6918192505836487, 'eval_runtime': 16.1462, 'eval_samples_per_second': 9.538, 'eval_steps_per_second': 1.239, 'epoch': 2.0}\n"
     ]
    },
    {
     "name": "stderr",
     "output_type": "stream",
     "text": [
      "100%|██████████| 9/9 [00:54<00:00,  5.43s/it]***** Running Evaluation *****\n",
      "  Num examples = 154\n",
      "  Batch size = 8\n",
      "                                             \n",
      "\n",
      "\n",
      "\n",
      "\u001b[A\u001b[A\u001b[A\u001b[A                                  \n",
      "100%|██████████| 9/9 [01:10<00:00,  5.43s/it]  \n",
      "\n",
      "\n",
      "\u001b[A\u001b[A\u001b[A\n",
      "\n",
      "Training completed. Do not forget to share your model on huggingface.co/models =)\n",
      "\n",
      "\n",
      "                                             \n",
      "\n",
      "\n",
      "\n",
      "100%|██████████| 9/9 [01:10<00:00,  5.43s/it] \n",
      "\n",
      "\n",
      "100%|██████████| 9/9 [01:10<00:00,  7.89s/it]"
     ]
    },
    {
     "name": "stdout",
     "output_type": "stream",
     "text": [
      "{'eval_loss': 0.691725492477417, 'eval_runtime': 16.1076, 'eval_samples_per_second': 9.561, 'eval_steps_per_second': 1.242, 'epoch': 3.0}\n",
      "{'train_runtime': 70.9708, 'train_samples_per_second': 0.719, 'train_steps_per_second': 0.127, 'train_loss': 0.702134821150038, 'epoch': 3.0}\n"
     ]
    },
    {
     "name": "stderr",
     "output_type": "stream",
     "text": [
      "\n"
     ]
    },
    {
     "data": {
      "text/plain": [
       "TrainOutput(global_step=9, training_loss=0.702134821150038, metrics={'train_runtime': 70.9708, 'train_samples_per_second': 0.719, 'train_steps_per_second': 0.127, 'train_loss': 0.702134821150038, 'epoch': 3.0})"
      ]
     },
     "execution_count": 82,
     "metadata": {},
     "output_type": "execute_result"
    }
   ],
   "source": [
    "model = DistilBertForSequenceClassification.from_pretrained('distilbert-base-uncased', num_labels=2)\n",
    "\n",
    "training_args = TrainingArguments(\n",
    "    output_dir='./results',\n",
    "    num_train_epochs=3,\n",
    "    per_device_train_batch_size=8,\n",
    "    per_device_eval_batch_size=8,\n",
    "    warmup_steps=500,\n",
    "    weight_decay=0.01,\n",
    "    logging_dir='./logs',\n",
    "    evaluation_strategy='epoch'\n",
    ")\n",
    "\n",
    "trainer = Trainer(\n",
    "    model=model,\n",
    "    args=training_args,\n",
    "    train_dataset=train_dataset,\n",
    "    eval_dataset=test_dataset\n",
    ")\n",
    "\n",
    "trainer.train()"
   ]
  },
  {
   "cell_type": "code",
   "execution_count": 79,
   "metadata": {},
   "outputs": [
    {
     "name": "stderr",
     "output_type": "stream",
     "text": [
      "***** Running Evaluation *****\n",
      "  Num examples = 35\n",
      "  Batch size = 8\n",
      "\n",
      "\n",
      "\n",
      "\n",
      "\u001b[A\u001b[A\u001b[A\u001b[A\n",
      "\n",
      "\n",
      "\n",
      "\u001b[A\u001b[A\u001b[A\u001b[A\n",
      "\n",
      "\n",
      "\n",
      "\u001b[A\u001b[A\u001b[A\u001b[A\n",
      "\n",
      "\n",
      "\n",
      "\u001b[A\u001b[A\u001b[A\u001b[A\n",
      "\n",
      "\n",
      "\n",
      "100%|██████████| 5/5 [00:02<00:00,  1.70it/s]"
     ]
    },
    {
     "name": "stdout",
     "output_type": "stream",
     "text": [
      "{'eval_loss': 0.6973109841346741, 'eval_runtime': 3.8545, 'eval_samples_per_second': 9.08, 'eval_steps_per_second': 1.297, 'epoch': 3.0}\n"
     ]
    },
    {
     "name": "stderr",
     "output_type": "stream",
     "text": [
      "\n"
     ]
    }
   ],
   "source": [
    "evaluation_results = trainer.evaluate(test_dataset)\n",
    "print(evaluation_results)"
   ]
  },
  {
   "cell_type": "code",
   "execution_count": 83,
   "metadata": {},
   "outputs": [
    {
     "name": "stderr",
     "output_type": "stream",
     "text": [
      "***** Running Prediction *****\n",
      "  Num examples = 154\n",
      "  Batch size = 8\n",
      "100%|██████████| 20/20 [00:15<00:00,  1.30it/s]\n"
     ]
    },
    {
     "data": {
      "image/png": "[encoded data removed]",
      "text/plain": [
       "<Figure size 640x480 with 2 Axes>"
      ]
     },
     "metadata": {},
     "output_type": "display_data"
    }
   ],
   "source": [
    "from sklearn.metrics import confusion_matrix, ConfusionMatrixDisplay\n",
    "import matplotlib.pyplot as plt\n",
    "\n",
    "# Assuming you have your test labels and predictions\n",
    "predictions = trainer.predict(test_dataset)\n",
    "predicted_labels = predictions.predictions.argmax(axis=1)\n",
    "\n",
    "cm = confusion_matrix(labels_test, predicted_labels)\n",
    "\n",
    "disp = ConfusionMatrixDisplay(confusion_matrix=cm)\n",
    "disp.plot()\n",
    "plt.show()"
   ]
  }
 ],
 "metadata": {
  "kernelspec": {
   "display_name": "base",
   "language": "python",
   "name": "python3"
  },
  "language_info": {
   "codemirror_mode": {
    "name": "ipython",
    "version": 3
   },
   "file_extension": ".py",
   "mimetype": "text/x-python",
   "name": "python",
   "nbconvert_exporter": "python",
   "pygments_lexer": "ipython3",
   "version": "3.10.9"
  }
 },
 "nbformat": 4,
 "nbformat_minor": 2
}
