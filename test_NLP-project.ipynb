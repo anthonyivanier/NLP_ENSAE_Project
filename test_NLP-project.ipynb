from difflib import SequenceMatcher

# Calculate similarity between extracted first name gt and extracted first name pred
similarity_scores = []
equal_values = []

for gt, pred in zip(df_transcriptions['extracted_firstname_gt'], df_transcriptions['extracted_firstname_pred']):
    similarity = SequenceMatcher(None, gt, pred).ratio()
    similarity_scores.append(similarity)
    
    # Check if the extracted first name in both columns are equal
    if gt == pred:
        equal_values.append(True)
    else:
        equal_values.append(False)

# Print the similarity scores
for score in similarity_scores:
    print(f"Similarity score: {score}")

# Print the test results
print(f"Test results: {all(equal_values)}")